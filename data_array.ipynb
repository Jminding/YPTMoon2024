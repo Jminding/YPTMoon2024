{
 "cells": [
  {
   "cell_type": "code",
   "execution_count": 14,
   "metadata": {},
   "outputs": [],
   "source": [
    "import cv2\n",
    "import numpy as np\n",
    "from PIL import Image"
   ]
  },
  {
   "cell_type": "code",
   "execution_count": 19,
   "metadata": {},
   "outputs": [
    {
     "name": "stdout",
     "output_type": "stream",
     "text": [
      "255\n"
     ]
    }
   ],
   "source": [
    "image = cv2.imread(\"test_image3.png\")\n",
    "lane_image = np.copy(image)\n",
    "gray = cv2.cvtColor(lane_image, cv2.COLOR_RGB2GRAY)\n",
    "print(np.max(gray))\n",
    "gray = gray.tolist()\n",
    "file = open(\"output.txt\", \"w\")\n",
    "file.write(str(gray))\n",
    "file.close()"
   ]
  },
  {
   "cell_type": "code",
   "execution_count": 20,
   "metadata": {},
   "outputs": [
    {
     "name": "stdout",
     "output_type": "stream",
     "text": [
      "1938\n"
     ]
    }
   ],
   "source": [
    "print(len(gray[0]))"
   ]
  },
  {
   "cell_type": "code",
   "execution_count": 21,
   "metadata": {},
   "outputs": [],
   "source": [
    "width1 = 5\n",
    "height1 = 5\n",
    "\n",
    "im = Image.new('L', (width1, height1))\n",
    "pix = im.load()\n",
    "for y in range(height1):\n",
    "    for x in range(width1):\n",
    "        pix[x, y] = 253\n",
    "im = im.resize((width1 * 10, height1 * 10), resample=Image.NEAREST)\n",
    "im.save('test.png')"
   ]
  },
  {
   "cell_type": "code",
   "execution_count": null,
   "metadata": {},
   "outputs": [],
   "source": [
    "# Create a graph of the image\n"
   ]
  }
 ],
 "metadata": {
  "kernelspec": {
   "display_name": "Python 3",
   "language": "python",
   "name": "python3"
  },
  "language_info": {
   "codemirror_mode": {
    "name": "ipython",
    "version": 3
   },
   "file_extension": ".py",
   "mimetype": "text/x-python",
   "name": "python",
   "nbconvert_exporter": "python",
   "pygments_lexer": "ipython3",
   "version": "3.11.6"
  }
 },
 "nbformat": 4,
 "nbformat_minor": 2
}
