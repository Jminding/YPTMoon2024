{
 "cells": [
  {
   "cell_type": "code",
   "execution_count": 2,
   "metadata": {},
   "outputs": [
    {
     "ename": "",
     "evalue": "",
     "output_type": "error",
     "traceback": [
      "\u001b[1;31mThe Kernel crashed while executing code in the the current cell or a previous cell. Please review the code in the cell(s) to identify a possible cause of the failure. Click <a href='https://aka.ms/vscodeJupyterKernelCrash'>here</a> for more info. View Jupyter <a href='command:jupyter.viewOutput'>log</a> for further details."
     ]
    }
   ],
   "source": [
    "import cv2\n",
    "import numpy as np\n",
    "import os\n",
    "\n",
    "# Load the image\n",
    "image = cv2.imread(os.path.join('test_data_libration', 'moon.11.jpg'))\n",
    "\n",
    "# Example 3D normal vectors (replace with your actual 3D normal vectors)\n",
    "normal_vectors_3d = [(1, 1, 1), (1, 1, 1), (1, 1, 1)]\n",
    "\n",
    "# Camera parameters (replace with your actual camera parameters)\n",
    "focal_length = 1000\n",
    "camera_center = (image.shape[1] // 2, image.shape[0] // 2)\n",
    "\n",
    "# Project 3D vectors onto 2D image plane\n",
    "projected_vectors = []\n",
    "for vector in normal_vectors_3d:\n",
    "    x_proj = int(vector[0] * focal_length / vector[2] + camera_center[0])\n",
    "    y_proj = int(vector[1] * focal_length / vector[2] + camera_center[1])\n",
    "    projected_vectors.append((x_proj, y_proj))\n",
    "\n",
    "# Draw projected vectors on the image\n",
    "for point in projected_vectors:\n",
    "    cv2.arrowedLine(image, (0, 0), (700, 700), (255, 0, 0), 3)\n",
    "\n",
    "# Display the image with projected vectors\n",
    "cv2.imshow('Image with Projected Vectors', image)\n",
    "cv2.waitKey(0)\n",
    "cv2.destroyAllWindows()\n"
   ]
  }
 ],
 "metadata": {
  "kernelspec": {
   "display_name": "Python 3",
   "language": "python",
   "name": "python3"
  },
  "language_info": {
   "codemirror_mode": {
    "name": "ipython",
    "version": 3
   },
   "file_extension": ".py",
   "mimetype": "text/x-python",
   "name": "python",
   "nbconvert_exporter": "python",
   "pygments_lexer": "ipython3",
   "version": "3.11.6"
  }
 },
 "nbformat": 4,
 "nbformat_minor": 2
}
